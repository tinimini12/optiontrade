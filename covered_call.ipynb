{
  "nbformat": 4,
  "nbformat_minor": 0,
  "metadata": {
    "colab": {
      "provenance": [],
      "authorship_tag": "ABX9TyN3/XZmZ8pxVQMeDpYxRZXC",
      "include_colab_link": true
    },
    "kernelspec": {
      "name": "python3",
      "display_name": "Python 3"
    },
    "language_info": {
      "name": "python"
    }
  },
  "cells": [
    {
      "cell_type": "markdown",
      "metadata": {
        "id": "view-in-github",
        "colab_type": "text"
      },
      "source": [
        "<a href=\"https://colab.research.google.com/github/tinimini12/optiontrade/blob/colab/covered_call.ipynb\" target=\"_parent\"><img src=\"https://colab.research.google.com/assets/colab-badge.svg\" alt=\"Open In Colab\"/></a>"
      ]
    },
    {
      "cell_type": "code",
      "source": [
        "import yfinance as yf\n",
        "import pandas as pd\n",
        "import pytz\n",
        "from datetime import datetime, timedelta\n",
        "import matplotlib.pyplot as plt\n",
        "\n",
        "def get_option_chain(ticker, expiry):\n",
        "    stock = yf.Ticker(ticker)\n",
        "    return stock.option_chain(expiry)\n",
        "\n",
        "def get_stock_data(ticker, period=\"3mo\"):\n",
        "    stock = yf.Ticker(ticker)\n",
        "    hist = stock.history(period=period)\n",
        "    return hist\n",
        "\n",
        "def calculate_weekly_fluctuation(stock_data):\n",
        "    stock_data['Week'] = stock_data.index.to_period('W')\n",
        "    weekly_data = stock_data.resample('W-FRI').last()\n",
        "    weekly_data['Weekly Change %'] = weekly_data['Close'].pct_change() * 100\n",
        "    return weekly_data\n",
        "\n",
        "def optimal_strike(expiry_options, expected_stock_price, next_earnings_date, next_ex_dividend_date, expiration_date):\n",
        "    calls = expiry_options.calls\n",
        "    if 'impliedVolatility' in calls.columns:\n",
        "        # Filter out in-the-money options\n",
        "        filtered_calls = calls[calls['strike'] > expected_stock_price]\n",
        "\n",
        "        # Sort the filtered options by implied volatility in ascending order\n",
        "        sorted_calls = filtered_calls.sort_values(by='impliedVolatility')\n",
        "\n",
        "        # Remove the options that are close to earnings date or ex-dividend date\n",
        "        one_week_before_expiration = expiration_date - timedelta(weeks=1)\n",
        "        if next_earnings_date and one_week_before_expiration <= next_earnings_date:\n",
        "            sorted_calls = sorted_calls[sorted_calls.index != next_earnings_date.strftime('%Y-%m-%d')]\n",
        "        if next_ex_dividend_date and one_week_before_expiration <= next_ex_dividend_date:\n",
        "            sorted_calls = sorted_calls[sorted_calls.index != next_ex_dividend_date.strftime('%Y-%m-%d')]\n",
        "\n",
        "        # Select the first option from the filtered and sorted list as the optimal strike price\n",
        "        if not sorted_calls.empty:\n",
        "            optimal = sorted_calls.iloc[0]\n",
        "            return optimal['strike'], optimal['lastPrice'], optimal['impliedVolatility']\n",
        "        else:\n",
        "            print(\"No optimal strike price found.\")\n",
        "            return None, None, None\n",
        "    else:\n",
        "        print(\"Implied Volatility column not available.\")\n",
        "        return None, None, None\n",
        "\n",
        "\n",
        "def get_next_earnings_date(ticker):\n",
        "    stock = yf.Ticker(ticker)\n",
        "    earnings_dates = stock.earnings_dates.index\n",
        "    current_time = pd.Timestamp.now(tz=earnings_dates.tz)\n",
        "    future_earnings_dates = earnings_dates[earnings_dates > current_time]\n",
        "    return future_earnings_dates.min() if not future_earnings_dates.empty else None\n",
        "\n",
        "def get_next_ex_dividend_date(ticker):\n",
        "    stock = yf.Ticker(ticker)\n",
        "    dividends = stock.dividends.index\n",
        "    current_time = pd.Timestamp.now(tz=dividends.tz)\n",
        "    future_dividends = dividends[dividends > current_time]\n",
        "    return future_dividends.min() if not future_dividends.empty else None\n",
        "\n",
        "def main():\n",
        "    ticker = input(\"Enter the ticker symbol: \")\n",
        "    num_contracts = int(input(\"Enter the number of contracts: \"))\n",
        "    weeks_from_now = int(input(\"Enter the number of weeks from now for the expiration date: \"))\n",
        "    stock = yf.Ticker(ticker)\n",
        "    current_price = stock.history(period='1d')['Close'].iloc[-1]\n",
        "\n",
        "    expected_price_change_percent = float(input(\"Enter the expected stock price change (%) from current price: \"))\n",
        "    expected_price = current_price * (1 + expected_price_change_percent / 100)\n",
        "\n",
        "    next_earnings_date = get_next_earnings_date(ticker)\n",
        "    next_ex_dividend_date = get_next_ex_dividend_date(ticker)\n",
        "\n",
        "    if next_earnings_date:\n",
        "        print(f\"Next earnings date for {ticker}: {next_earnings_date.strftime('%Y-%m-%d')}\")\n",
        "    else:\n",
        "        print(f\"No upcoming earnings date found for {ticker}.\")\n",
        "\n",
        "    if next_ex_dividend_date:\n",
        "        print(f\"Next ex-dividend date for {ticker}: {next_ex_dividend_date.strftime('%Y-%m-%d')}\")\n",
        "    else:\n",
        "        print(f\"No upcoming ex-dividend date found for {ticker}.\")\n",
        "\n",
        "    today = datetime.today()\n",
        "    expiration_date = (today + timedelta(weeks=weeks_from_now)).date()\n",
        "\n",
        "    if next_earnings_date:\n",
        "        next_earnings_date = next_earnings_date.to_pydatetime().date()\n",
        "\n",
        "    while next_earnings_date and abs((expiration_date - next_earnings_date).days) < 7:\n",
        "        expiration_date += timedelta(weeks=1)\n",
        "\n",
        "    while next_ex_dividend_date and abs((expiration_date - next_ex_dividend_date).days) < 7:\n",
        "        expiration_date += timedelta(weeks=1)\n",
        "\n",
        "    expiration_date = expiration_date - timedelta(days=expiration_date.weekday() - 4)  # Adjust to nearest Friday\n",
        "\n",
        "    option_chain = get_option_chain(ticker, expiration_date.strftime('%Y-%m-%d'))\n",
        "   #print(\"Available columns in options data:\", option_chain.calls.columns)\n",
        "    #strike_price, premium, implied_volatility = optimal_strike(option_chain, expected_price)\n",
        "    strike_price, premium, implied_volatility = optimal_strike(option_chain, expected_price, next_earnings_date, next_ex_dividend_date, expiration_date)\n",
        "\n",
        "    if strike_price is None:\n",
        "        print(\"No optimal strike price found.\")\n",
        "        return\n",
        "\n",
        "    stock_data = get_stock_data(ticker)\n",
        "    weekly_fluctuation = calculate_weekly_fluctuation(stock_data)\n",
        "\n",
        "\n",
        "\n",
        "    total_premium = premium * 100 * num_contracts\n",
        "    total_stock_value = current_price * 100 * num_contracts\n",
        "    print(f\"Expirataion date: {expiration_date}\")\n",
        "    print(f\"current stock price: {current_price}\")\n",
        "    print(f\"Expected stock price: {expected_price}\")\n",
        "    print(f\"\\nOptimal strike price: {strike_price}\")\n",
        "    print(f\"Premium per contract: ${premium}\")\n",
        "    print(f\"Total premium to be collected: ${total_premium}\")\n",
        "    print(f\"Total value of stock held: ${total_stock_value}\")\n",
        "    if implied_volatility is not None:\n",
        "        print(f\"Implied Volatility for optimal strike price: {implied_volatility}\")\n",
        "    # plt.figure(figsize=(10, 5))\n",
        "    # plt.plot(weekly_fluctuation.index, weekly_fluctuation['Weekly Change %'], marker='o')\n",
        "    # plt.title('Weekly Stock Price Fluctuation (%)')\n",
        "    # plt.xlabel('Date')\n",
        "    # plt.ylabel('Weekly Change (%)')\n",
        "    # plt.grid(True)\n",
        "    # plt.show()\n",
        "\n",
        "if __name__ == \"__main__\":\n",
        "    main()\n"
      ],
      "metadata": {
        "colab": {
          "base_uri": "https://localhost:8080/"
        },
        "id": "ZhuLa1sVozAa",
        "outputId": "b40e6b69-ca9b-4768-c592-a3655f9092c9"
      },
      "execution_count": null,
      "outputs": [
        {
          "output_type": "stream",
          "name": "stdout",
          "text": [
            "Enter the ticker symbol: tsla\n",
            "Enter the number of contracts: 10\n",
            "Enter the number of weeks from now for the expiration date: 2\n",
            "Enter the expected stock price change (%) from current price: 10\n",
            "Next earnings date for tsla: 2024-06-13\n",
            "No upcoming ex-dividend date found for tsla.\n",
            "Expirataion date: 2024-06-28\n",
            "current stock price: 178.0800018310547\n",
            "Expected stock price: 195.88800201416018\n",
            "\n",
            "Optimal strike price: 200.0\n",
            "Premium per contract: $2.52\n",
            "Total premium to be collected: $2520.0\n",
            "Total value of stock held: $178080.0018310547\n",
            "Implied Volatility for optimal strike price: 0.4880422290039063\n"
          ]
        },
        {
          "output_type": "stream",
          "name": "stderr",
          "text": [
            "<ipython-input-1-d8e774d188a8>:17: UserWarning: Converting to PeriodArray/Index representation will drop timezone information.\n",
            "  stock_data['Week'] = stock_data.index.to_period('W')\n"
          ]
        }
      ]
    },
    {
      "cell_type": "code",
      "source": [
        "pip install yfinance plotly\n"
      ],
      "metadata": {
        "colab": {
          "base_uri": "https://localhost:8080/"
        },
        "id": "43FI_LOAh5gx",
        "outputId": "6b15ac67-08cc-4731-99eb-e4fd3b7ed621"
      },
      "execution_count": null,
      "outputs": [
        {
          "output_type": "stream",
          "name": "stdout",
          "text": [
            "Requirement already satisfied: yfinance in /usr/local/lib/python3.10/dist-packages (0.2.40)\n",
            "Requirement already satisfied: plotly in /usr/local/lib/python3.10/dist-packages (5.15.0)\n",
            "Requirement already satisfied: pandas>=1.3.0 in /usr/local/lib/python3.10/dist-packages (from yfinance) (2.0.3)\n",
            "Requirement already satisfied: numpy>=1.16.5 in /usr/local/lib/python3.10/dist-packages (from yfinance) (1.25.2)\n",
            "Requirement already satisfied: requests>=2.31 in /usr/local/lib/python3.10/dist-packages (from yfinance) (2.31.0)\n",
            "Requirement already satisfied: multitasking>=0.0.7 in /usr/local/lib/python3.10/dist-packages (from yfinance) (0.0.11)\n",
            "Requirement already satisfied: lxml>=4.9.1 in /usr/local/lib/python3.10/dist-packages (from yfinance) (4.9.4)\n",
            "Requirement already satisfied: platformdirs>=2.0.0 in /usr/local/lib/python3.10/dist-packages (from yfinance) (4.2.2)\n",
            "Requirement already satisfied: pytz>=2022.5 in /usr/local/lib/python3.10/dist-packages (from yfinance) (2023.4)\n",
            "Requirement already satisfied: frozendict>=2.3.4 in /usr/local/lib/python3.10/dist-packages (from yfinance) (2.4.4)\n",
            "Requirement already satisfied: peewee>=3.16.2 in /usr/local/lib/python3.10/dist-packages (from yfinance) (3.17.5)\n",
            "Requirement already satisfied: beautifulsoup4>=4.11.1 in /usr/local/lib/python3.10/dist-packages (from yfinance) (4.12.3)\n",
            "Requirement already satisfied: html5lib>=1.1 in /usr/local/lib/python3.10/dist-packages (from yfinance) (1.1)\n",
            "Requirement already satisfied: tenacity>=6.2.0 in /usr/local/lib/python3.10/dist-packages (from plotly) (8.3.0)\n",
            "Requirement already satisfied: packaging in /usr/local/lib/python3.10/dist-packages (from plotly) (24.0)\n",
            "Requirement already satisfied: soupsieve>1.2 in /usr/local/lib/python3.10/dist-packages (from beautifulsoup4>=4.11.1->yfinance) (2.5)\n",
            "Requirement already satisfied: six>=1.9 in /usr/local/lib/python3.10/dist-packages (from html5lib>=1.1->yfinance) (1.16.0)\n",
            "Requirement already satisfied: webencodings in /usr/local/lib/python3.10/dist-packages (from html5lib>=1.1->yfinance) (0.5.1)\n",
            "Requirement already satisfied: python-dateutil>=2.8.2 in /usr/local/lib/python3.10/dist-packages (from pandas>=1.3.0->yfinance) (2.8.2)\n",
            "Requirement already satisfied: tzdata>=2022.1 in /usr/local/lib/python3.10/dist-packages (from pandas>=1.3.0->yfinance) (2024.1)\n",
            "Requirement already satisfied: charset-normalizer<4,>=2 in /usr/local/lib/python3.10/dist-packages (from requests>=2.31->yfinance) (3.3.2)\n",
            "Requirement already satisfied: idna<4,>=2.5 in /usr/local/lib/python3.10/dist-packages (from requests>=2.31->yfinance) (3.7)\n",
            "Requirement already satisfied: urllib3<3,>=1.21.1 in /usr/local/lib/python3.10/dist-packages (from requests>=2.31->yfinance) (2.0.7)\n",
            "Requirement already satisfied: certifi>=2017.4.17 in /usr/local/lib/python3.10/dist-packages (from requests>=2.31->yfinance) (2024.2.2)\n"
          ]
        }
      ]
    },
    {
      "cell_type": "code",
      "source": [
        "import yfinance as yf\n",
        "import plotly.graph_objects as go\n",
        "from datetime import datetime, timedelta\n",
        "\n",
        "def plot_stock_chart(ticker):\n",
        "    # Calculate the date three months ago from today\n",
        "    end_date = datetime.now()\n",
        "    start_date = end_date - timedelta(days=90)\n",
        "\n",
        "    # Fetch the stock data\n",
        "    stock_data = yf.download(ticker, start=start_date, end=end_date)\n",
        "\n",
        "    # Check if data is fetched successfully\n",
        "    if stock_data.empty:\n",
        "        print(f\"No data found for ticker symbol {ticker}\")\n",
        "        return\n",
        "\n",
        "    # Create the interactive plot\n",
        "    fig = go.Figure()\n",
        "\n",
        "    # Add the stock price line\n",
        "    fig.add_trace(go.Scatter(x=stock_data.index, y=stock_data['Close'],\n",
        "                             mode='lines+markers',\n",
        "                             name=ticker,\n",
        "                             text=[f\"Date: {date}<br>Close: {close}\" for date, close in zip(stock_data.index, stock_data['Close'])],\n",
        "                             hoverinfo='text'))\n",
        "\n",
        "    # Update layout for better visuals\n",
        "    fig.update_layout(\n",
        "        title=f\"{ticker} Stock Price - Last 3 Months\",\n",
        "        xaxis_title='Date',\n",
        "        yaxis_title='Close Price (USD)',\n",
        "        hovermode='x unified',\n",
        "        template='plotly_dark'\n",
        "    )\n",
        "\n",
        "    # Show the plot\n",
        "    fig.show()\n",
        "\n",
        "# Input the ticker symbol\n",
        "ticker_symbol = input(\"Enter the ticker symbol: \").upper()\n",
        "plot_stock_chart(ticker_symbol)\n"
      ],
      "metadata": {
        "colab": {
          "base_uri": "https://localhost:8080/",
          "height": 577
        },
        "id": "fzsOsADNiUxt",
        "outputId": "bec13006-2e20-467e-e657-4b28e8ea51f9"
      },
      "execution_count": null,
      "outputs": [
        {
          "name": "stdout",
          "output_type": "stream",
          "text": [
            "Enter the ticker symbol: tsla\n"
          ]
        },
        {
          "output_type": "stream",
          "name": "stderr",
          "text": [
            "\r[*********************100%%**********************]  1 of 1 completed\n"
          ]
        },
        {
          "output_type": "display_data",
          "data": {
            "text/html": [
              "<html>\n",
              "<head><meta charset=\"utf-8\" /></head>\n",
              "<body>\n",
              "    <div>            <script src=\"https://cdnjs.cloudflare.com/ajax/libs/mathjax/2.7.5/MathJax.js?config=TeX-AMS-MML_SVG\"></script><script type=\"text/javascript\">if (window.MathJax && window.MathJax.Hub && window.MathJax.Hub.Config) {window.MathJax.Hub.Config({SVG: {font: \"STIX-Web\"}});}</script>                <script type=\"text/javascript\">window.PlotlyConfig = {MathJaxConfig: 'local'};</script>\n",
              "        <script charset=\"utf-8\" src=\"https://cdn.plot.ly/plotly-2.24.1.min.js\"></script>                <div id=\"ac02406f-efec-430e-a832-adf05a89c662\" class=\"plotly-graph-div\" style=\"height:525px; width:100%;\"></div>            <script type=\"text/javascript\">                                    window.PLOTLYENV=window.PLOTLYENV || {};                                    if (document.getElementById(\"ac02406f-efec-430e-a832-adf05a89c662\")) {                    Plotly.newPlot(                        \"ac02406f-efec-430e-a832-adf05a89c662\",                        [{\"hoverinfo\":\"text\",\"mode\":\"lines+markers\",\"name\":\"TSLA\",\"text\":[\"Date: 2024-03-05 00:00:00\\u003cbr\\u003eClose: 180.74000549316406\",\"Date: 2024-03-06 00:00:00\\u003cbr\\u003eClose: 176.5399932861328\",\"Date: 2024-03-07 00:00:00\\u003cbr\\u003eClose: 178.64999389648438\",\"Date: 2024-03-08 00:00:00\\u003cbr\\u003eClose: 175.33999633789062\",\"Date: 2024-03-11 00:00:00\\u003cbr\\u003eClose: 177.77000427246094\",\"Date: 2024-03-12 00:00:00\\u003cbr\\u003eClose: 177.5399932861328\",\"Date: 2024-03-13 00:00:00\\u003cbr\\u003eClose: 169.47999572753906\",\"Date: 2024-03-14 00:00:00\\u003cbr\\u003eClose: 162.5\",\"Date: 2024-03-15 00:00:00\\u003cbr\\u003eClose: 163.57000732421875\",\"Date: 2024-03-18 00:00:00\\u003cbr\\u003eClose: 173.8000030517578\",\"Date: 2024-03-19 00:00:00\\u003cbr\\u003eClose: 171.32000732421875\",\"Date: 2024-03-20 00:00:00\\u003cbr\\u003eClose: 175.66000366210938\",\"Date: 2024-03-21 00:00:00\\u003cbr\\u003eClose: 172.82000732421875\",\"Date: 2024-03-22 00:00:00\\u003cbr\\u003eClose: 170.8300018310547\",\"Date: 2024-03-25 00:00:00\\u003cbr\\u003eClose: 172.6300048828125\",\"Date: 2024-03-26 00:00:00\\u003cbr\\u003eClose: 177.6699981689453\",\"Date: 2024-03-27 00:00:00\\u003cbr\\u003eClose: 179.8300018310547\",\"Date: 2024-03-28 00:00:00\\u003cbr\\u003eClose: 175.7899932861328\",\"Date: 2024-04-01 00:00:00\\u003cbr\\u003eClose: 175.22000122070312\",\"Date: 2024-04-02 00:00:00\\u003cbr\\u003eClose: 166.6300048828125\",\"Date: 2024-04-03 00:00:00\\u003cbr\\u003eClose: 168.3800048828125\",\"Date: 2024-04-04 00:00:00\\u003cbr\\u003eClose: 171.11000061035156\",\"Date: 2024-04-05 00:00:00\\u003cbr\\u003eClose: 164.89999389648438\",\"Date: 2024-04-08 00:00:00\\u003cbr\\u003eClose: 172.97999572753906\",\"Date: 2024-04-09 00:00:00\\u003cbr\\u003eClose: 176.8800048828125\",\"Date: 2024-04-10 00:00:00\\u003cbr\\u003eClose: 171.75999450683594\",\"Date: 2024-04-11 00:00:00\\u003cbr\\u003eClose: 174.60000610351562\",\"Date: 2024-04-12 00:00:00\\u003cbr\\u003eClose: 171.0500030517578\",\"Date: 2024-04-15 00:00:00\\u003cbr\\u003eClose: 161.47999572753906\",\"Date: 2024-04-16 00:00:00\\u003cbr\\u003eClose: 157.11000061035156\",\"Date: 2024-04-17 00:00:00\\u003cbr\\u003eClose: 155.4499969482422\",\"Date: 2024-04-18 00:00:00\\u003cbr\\u003eClose: 149.92999267578125\",\"Date: 2024-04-19 00:00:00\\u003cbr\\u003eClose: 147.0500030517578\",\"Date: 2024-04-22 00:00:00\\u003cbr\\u003eClose: 142.0500030517578\",\"Date: 2024-04-23 00:00:00\\u003cbr\\u003eClose: 144.67999267578125\",\"Date: 2024-04-24 00:00:00\\u003cbr\\u003eClose: 162.1300048828125\",\"Date: 2024-04-25 00:00:00\\u003cbr\\u003eClose: 170.17999267578125\",\"Date: 2024-04-26 00:00:00\\u003cbr\\u003eClose: 168.2899932861328\",\"Date: 2024-04-29 00:00:00\\u003cbr\\u003eClose: 194.0500030517578\",\"Date: 2024-04-30 00:00:00\\u003cbr\\u003eClose: 183.27999877929688\",\"Date: 2024-05-01 00:00:00\\u003cbr\\u003eClose: 179.99000549316406\",\"Date: 2024-05-02 00:00:00\\u003cbr\\u003eClose: 180.00999450683594\",\"Date: 2024-05-03 00:00:00\\u003cbr\\u003eClose: 181.19000244140625\",\"Date: 2024-05-06 00:00:00\\u003cbr\\u003eClose: 184.75999450683594\",\"Date: 2024-05-07 00:00:00\\u003cbr\\u003eClose: 177.80999755859375\",\"Date: 2024-05-08 00:00:00\\u003cbr\\u003eClose: 174.72000122070312\",\"Date: 2024-05-09 00:00:00\\u003cbr\\u003eClose: 171.97000122070312\",\"Date: 2024-05-10 00:00:00\\u003cbr\\u003eClose: 168.47000122070312\",\"Date: 2024-05-13 00:00:00\\u003cbr\\u003eClose: 171.88999938964844\",\"Date: 2024-05-14 00:00:00\\u003cbr\\u003eClose: 177.5500030517578\",\"Date: 2024-05-15 00:00:00\\u003cbr\\u003eClose: 173.99000549316406\",\"Date: 2024-05-16 00:00:00\\u003cbr\\u003eClose: 174.83999633789062\",\"Date: 2024-05-17 00:00:00\\u003cbr\\u003eClose: 177.4600067138672\",\"Date: 2024-05-20 00:00:00\\u003cbr\\u003eClose: 174.9499969482422\",\"Date: 2024-05-21 00:00:00\\u003cbr\\u003eClose: 186.60000610351562\",\"Date: 2024-05-22 00:00:00\\u003cbr\\u003eClose: 180.11000061035156\",\"Date: 2024-05-23 00:00:00\\u003cbr\\u003eClose: 173.74000549316406\",\"Date: 2024-05-24 00:00:00\\u003cbr\\u003eClose: 179.24000549316406\",\"Date: 2024-05-28 00:00:00\\u003cbr\\u003eClose: 176.75\",\"Date: 2024-05-29 00:00:00\\u003cbr\\u003eClose: 176.19000244140625\",\"Date: 2024-05-30 00:00:00\\u003cbr\\u003eClose: 178.7899932861328\",\"Date: 2024-05-31 00:00:00\\u003cbr\\u003eClose: 178.0800018310547\"],\"x\":[\"2024-03-05T00:00:00\",\"2024-03-06T00:00:00\",\"2024-03-07T00:00:00\",\"2024-03-08T00:00:00\",\"2024-03-11T00:00:00\",\"2024-03-12T00:00:00\",\"2024-03-13T00:00:00\",\"2024-03-14T00:00:00\",\"2024-03-15T00:00:00\",\"2024-03-18T00:00:00\",\"2024-03-19T00:00:00\",\"2024-03-20T00:00:00\",\"2024-03-21T00:00:00\",\"2024-03-22T00:00:00\",\"2024-03-25T00:00:00\",\"2024-03-26T00:00:00\",\"2024-03-27T00:00:00\",\"2024-03-28T00:00:00\",\"2024-04-01T00:00:00\",\"2024-04-02T00:00:00\",\"2024-04-03T00:00:00\",\"2024-04-04T00:00:00\",\"2024-04-05T00:00:00\",\"2024-04-08T00:00:00\",\"2024-04-09T00:00:00\",\"2024-04-10T00:00:00\",\"2024-04-11T00:00:00\",\"2024-04-12T00:00:00\",\"2024-04-15T00:00:00\",\"2024-04-16T00:00:00\",\"2024-04-17T00:00:00\",\"2024-04-18T00:00:00\",\"2024-04-19T00:00:00\",\"2024-04-22T00:00:00\",\"2024-04-23T00:00:00\",\"2024-04-24T00:00:00\",\"2024-04-25T00:00:00\",\"2024-04-26T00:00:00\",\"2024-04-29T00:00:00\",\"2024-04-30T00:00:00\",\"2024-05-01T00:00:00\",\"2024-05-02T00:00:00\",\"2024-05-03T00:00:00\",\"2024-05-06T00:00:00\",\"2024-05-07T00:00:00\",\"2024-05-08T00:00:00\",\"2024-05-09T00:00:00\",\"2024-05-10T00:00:00\",\"2024-05-13T00:00:00\",\"2024-05-14T00:00:00\",\"2024-05-15T00:00:00\",\"2024-05-16T00:00:00\",\"2024-05-17T00:00:00\",\"2024-05-20T00:00:00\",\"2024-05-21T00:00:00\",\"2024-05-22T00:00:00\",\"2024-05-23T00:00:00\",\"2024-05-24T00:00:00\",\"2024-05-28T00:00:00\",\"2024-05-29T00:00:00\",\"2024-05-30T00:00:00\",\"2024-05-31T00:00:00\"],\"y\":[180.74000549316406,176.5399932861328,178.64999389648438,175.33999633789062,177.77000427246094,177.5399932861328,169.47999572753906,162.5,163.57000732421875,173.8000030517578,171.32000732421875,175.66000366210938,172.82000732421875,170.8300018310547,172.6300048828125,177.6699981689453,179.8300018310547,175.7899932861328,175.22000122070312,166.6300048828125,168.3800048828125,171.11000061035156,164.89999389648438,172.97999572753906,176.8800048828125,171.75999450683594,174.60000610351562,171.0500030517578,161.47999572753906,157.11000061035156,155.4499969482422,149.92999267578125,147.0500030517578,142.0500030517578,144.67999267578125,162.1300048828125,170.17999267578125,168.2899932861328,194.0500030517578,183.27999877929688,179.99000549316406,180.00999450683594,181.19000244140625,184.75999450683594,177.80999755859375,174.72000122070312,171.97000122070312,168.47000122070312,171.88999938964844,177.5500030517578,173.99000549316406,174.83999633789062,177.4600067138672,174.9499969482422,186.60000610351562,180.11000061035156,173.74000549316406,179.24000549316406,176.75,176.19000244140625,178.7899932861328,178.0800018310547],\"type\":\"scatter\"}],                        {\"template\":{\"data\":{\"barpolar\":[{\"marker\":{\"line\":{\"color\":\"rgb(17,17,17)\",\"width\":0.5},\"pattern\":{\"fillmode\":\"overlay\",\"size\":10,\"solidity\":0.2}},\"type\":\"barpolar\"}],\"bar\":[{\"error_x\":{\"color\":\"#f2f5fa\"},\"error_y\":{\"color\":\"#f2f5fa\"},\"marker\":{\"line\":{\"color\":\"rgb(17,17,17)\",\"width\":0.5},\"pattern\":{\"fillmode\":\"overlay\",\"size\":10,\"solidity\":0.2}},\"type\":\"bar\"}],\"carpet\":[{\"aaxis\":{\"endlinecolor\":\"#A2B1C6\",\"gridcolor\":\"#506784\",\"linecolor\":\"#506784\",\"minorgridcolor\":\"#506784\",\"startlinecolor\":\"#A2B1C6\"},\"baxis\":{\"endlinecolor\":\"#A2B1C6\",\"gridcolor\":\"#506784\",\"linecolor\":\"#506784\",\"minorgridcolor\":\"#506784\",\"startlinecolor\":\"#A2B1C6\"},\"type\":\"carpet\"}],\"choropleth\":[{\"colorbar\":{\"outlinewidth\":0,\"ticks\":\"\"},\"type\":\"choropleth\"}],\"contourcarpet\":[{\"colorbar\":{\"outlinewidth\":0,\"ticks\":\"\"},\"type\":\"contourcarpet\"}],\"contour\":[{\"colorbar\":{\"outlinewidth\":0,\"ticks\":\"\"},\"colorscale\":[[0.0,\"#0d0887\"],[0.1111111111111111,\"#46039f\"],[0.2222222222222222,\"#7201a8\"],[0.3333333333333333,\"#9c179e\"],[0.4444444444444444,\"#bd3786\"],[0.5555555555555556,\"#d8576b\"],[0.6666666666666666,\"#ed7953\"],[0.7777777777777778,\"#fb9f3a\"],[0.8888888888888888,\"#fdca26\"],[1.0,\"#f0f921\"]],\"type\":\"contour\"}],\"heatmapgl\":[{\"colorbar\":{\"outlinewidth\":0,\"ticks\":\"\"},\"colorscale\":[[0.0,\"#0d0887\"],[0.1111111111111111,\"#46039f\"],[0.2222222222222222,\"#7201a8\"],[0.3333333333333333,\"#9c179e\"],[0.4444444444444444,\"#bd3786\"],[0.5555555555555556,\"#d8576b\"],[0.6666666666666666,\"#ed7953\"],[0.7777777777777778,\"#fb9f3a\"],[0.8888888888888888,\"#fdca26\"],[1.0,\"#f0f921\"]],\"type\":\"heatmapgl\"}],\"heatmap\":[{\"colorbar\":{\"outlinewidth\":0,\"ticks\":\"\"},\"colorscale\":[[0.0,\"#0d0887\"],[0.1111111111111111,\"#46039f\"],[0.2222222222222222,\"#7201a8\"],[0.3333333333333333,\"#9c179e\"],[0.4444444444444444,\"#bd3786\"],[0.5555555555555556,\"#d8576b\"],[0.6666666666666666,\"#ed7953\"],[0.7777777777777778,\"#fb9f3a\"],[0.8888888888888888,\"#fdca26\"],[1.0,\"#f0f921\"]],\"type\":\"heatmap\"}],\"histogram2dcontour\":[{\"colorbar\":{\"outlinewidth\":0,\"ticks\":\"\"},\"colorscale\":[[0.0,\"#0d0887\"],[0.1111111111111111,\"#46039f\"],[0.2222222222222222,\"#7201a8\"],[0.3333333333333333,\"#9c179e\"],[0.4444444444444444,\"#bd3786\"],[0.5555555555555556,\"#d8576b\"],[0.6666666666666666,\"#ed7953\"],[0.7777777777777778,\"#fb9f3a\"],[0.8888888888888888,\"#fdca26\"],[1.0,\"#f0f921\"]],\"type\":\"histogram2dcontour\"}],\"histogram2d\":[{\"colorbar\":{\"outlinewidth\":0,\"ticks\":\"\"},\"colorscale\":[[0.0,\"#0d0887\"],[0.1111111111111111,\"#46039f\"],[0.2222222222222222,\"#7201a8\"],[0.3333333333333333,\"#9c179e\"],[0.4444444444444444,\"#bd3786\"],[0.5555555555555556,\"#d8576b\"],[0.6666666666666666,\"#ed7953\"],[0.7777777777777778,\"#fb9f3a\"],[0.8888888888888888,\"#fdca26\"],[1.0,\"#f0f921\"]],\"type\":\"histogram2d\"}],\"histogram\":[{\"marker\":{\"pattern\":{\"fillmode\":\"overlay\",\"size\":10,\"solidity\":0.2}},\"type\":\"histogram\"}],\"mesh3d\":[{\"colorbar\":{\"outlinewidth\":0,\"ticks\":\"\"},\"type\":\"mesh3d\"}],\"parcoords\":[{\"line\":{\"colorbar\":{\"outlinewidth\":0,\"ticks\":\"\"}},\"type\":\"parcoords\"}],\"pie\":[{\"automargin\":true,\"type\":\"pie\"}],\"scatter3d\":[{\"line\":{\"colorbar\":{\"outlinewidth\":0,\"ticks\":\"\"}},\"marker\":{\"colorbar\":{\"outlinewidth\":0,\"ticks\":\"\"}},\"type\":\"scatter3d\"}],\"scattercarpet\":[{\"marker\":{\"colorbar\":{\"outlinewidth\":0,\"ticks\":\"\"}},\"type\":\"scattercarpet\"}],\"scattergeo\":[{\"marker\":{\"colorbar\":{\"outlinewidth\":0,\"ticks\":\"\"}},\"type\":\"scattergeo\"}],\"scattergl\":[{\"marker\":{\"line\":{\"color\":\"#283442\"}},\"type\":\"scattergl\"}],\"scattermapbox\":[{\"marker\":{\"colorbar\":{\"outlinewidth\":0,\"ticks\":\"\"}},\"type\":\"scattermapbox\"}],\"scatterpolargl\":[{\"marker\":{\"colorbar\":{\"outlinewidth\":0,\"ticks\":\"\"}},\"type\":\"scatterpolargl\"}],\"scatterpolar\":[{\"marker\":{\"colorbar\":{\"outlinewidth\":0,\"ticks\":\"\"}},\"type\":\"scatterpolar\"}],\"scatter\":[{\"marker\":{\"line\":{\"color\":\"#283442\"}},\"type\":\"scatter\"}],\"scatterternary\":[{\"marker\":{\"colorbar\":{\"outlinewidth\":0,\"ticks\":\"\"}},\"type\":\"scatterternary\"}],\"surface\":[{\"colorbar\":{\"outlinewidth\":0,\"ticks\":\"\"},\"colorscale\":[[0.0,\"#0d0887\"],[0.1111111111111111,\"#46039f\"],[0.2222222222222222,\"#7201a8\"],[0.3333333333333333,\"#9c179e\"],[0.4444444444444444,\"#bd3786\"],[0.5555555555555556,\"#d8576b\"],[0.6666666666666666,\"#ed7953\"],[0.7777777777777778,\"#fb9f3a\"],[0.8888888888888888,\"#fdca26\"],[1.0,\"#f0f921\"]],\"type\":\"surface\"}],\"table\":[{\"cells\":{\"fill\":{\"color\":\"#506784\"},\"line\":{\"color\":\"rgb(17,17,17)\"}},\"header\":{\"fill\":{\"color\":\"#2a3f5f\"},\"line\":{\"color\":\"rgb(17,17,17)\"}},\"type\":\"table\"}]},\"layout\":{\"annotationdefaults\":{\"arrowcolor\":\"#f2f5fa\",\"arrowhead\":0,\"arrowwidth\":1},\"autotypenumbers\":\"strict\",\"coloraxis\":{\"colorbar\":{\"outlinewidth\":0,\"ticks\":\"\"}},\"colorscale\":{\"diverging\":[[0,\"#8e0152\"],[0.1,\"#c51b7d\"],[0.2,\"#de77ae\"],[0.3,\"#f1b6da\"],[0.4,\"#fde0ef\"],[0.5,\"#f7f7f7\"],[0.6,\"#e6f5d0\"],[0.7,\"#b8e186\"],[0.8,\"#7fbc41\"],[0.9,\"#4d9221\"],[1,\"#276419\"]],\"sequential\":[[0.0,\"#0d0887\"],[0.1111111111111111,\"#46039f\"],[0.2222222222222222,\"#7201a8\"],[0.3333333333333333,\"#9c179e\"],[0.4444444444444444,\"#bd3786\"],[0.5555555555555556,\"#d8576b\"],[0.6666666666666666,\"#ed7953\"],[0.7777777777777778,\"#fb9f3a\"],[0.8888888888888888,\"#fdca26\"],[1.0,\"#f0f921\"]],\"sequentialminus\":[[0.0,\"#0d0887\"],[0.1111111111111111,\"#46039f\"],[0.2222222222222222,\"#7201a8\"],[0.3333333333333333,\"#9c179e\"],[0.4444444444444444,\"#bd3786\"],[0.5555555555555556,\"#d8576b\"],[0.6666666666666666,\"#ed7953\"],[0.7777777777777778,\"#fb9f3a\"],[0.8888888888888888,\"#fdca26\"],[1.0,\"#f0f921\"]]},\"colorway\":[\"#636efa\",\"#EF553B\",\"#00cc96\",\"#ab63fa\",\"#FFA15A\",\"#19d3f3\",\"#FF6692\",\"#B6E880\",\"#FF97FF\",\"#FECB52\"],\"font\":{\"color\":\"#f2f5fa\"},\"geo\":{\"bgcolor\":\"rgb(17,17,17)\",\"lakecolor\":\"rgb(17,17,17)\",\"landcolor\":\"rgb(17,17,17)\",\"showlakes\":true,\"showland\":true,\"subunitcolor\":\"#506784\"},\"hoverlabel\":{\"align\":\"left\"},\"hovermode\":\"closest\",\"mapbox\":{\"style\":\"dark\"},\"paper_bgcolor\":\"rgb(17,17,17)\",\"plot_bgcolor\":\"rgb(17,17,17)\",\"polar\":{\"angularaxis\":{\"gridcolor\":\"#506784\",\"linecolor\":\"#506784\",\"ticks\":\"\"},\"bgcolor\":\"rgb(17,17,17)\",\"radialaxis\":{\"gridcolor\":\"#506784\",\"linecolor\":\"#506784\",\"ticks\":\"\"}},\"scene\":{\"xaxis\":{\"backgroundcolor\":\"rgb(17,17,17)\",\"gridcolor\":\"#506784\",\"gridwidth\":2,\"linecolor\":\"#506784\",\"showbackground\":true,\"ticks\":\"\",\"zerolinecolor\":\"#C8D4E3\"},\"yaxis\":{\"backgroundcolor\":\"rgb(17,17,17)\",\"gridcolor\":\"#506784\",\"gridwidth\":2,\"linecolor\":\"#506784\",\"showbackground\":true,\"ticks\":\"\",\"zerolinecolor\":\"#C8D4E3\"},\"zaxis\":{\"backgroundcolor\":\"rgb(17,17,17)\",\"gridcolor\":\"#506784\",\"gridwidth\":2,\"linecolor\":\"#506784\",\"showbackground\":true,\"ticks\":\"\",\"zerolinecolor\":\"#C8D4E3\"}},\"shapedefaults\":{\"line\":{\"color\":\"#f2f5fa\"}},\"sliderdefaults\":{\"bgcolor\":\"#C8D4E3\",\"bordercolor\":\"rgb(17,17,17)\",\"borderwidth\":1,\"tickwidth\":0},\"ternary\":{\"aaxis\":{\"gridcolor\":\"#506784\",\"linecolor\":\"#506784\",\"ticks\":\"\"},\"baxis\":{\"gridcolor\":\"#506784\",\"linecolor\":\"#506784\",\"ticks\":\"\"},\"bgcolor\":\"rgb(17,17,17)\",\"caxis\":{\"gridcolor\":\"#506784\",\"linecolor\":\"#506784\",\"ticks\":\"\"}},\"title\":{\"x\":0.05},\"updatemenudefaults\":{\"bgcolor\":\"#506784\",\"borderwidth\":0},\"xaxis\":{\"automargin\":true,\"gridcolor\":\"#283442\",\"linecolor\":\"#506784\",\"ticks\":\"\",\"title\":{\"standoff\":15},\"zerolinecolor\":\"#283442\",\"zerolinewidth\":2},\"yaxis\":{\"automargin\":true,\"gridcolor\":\"#283442\",\"linecolor\":\"#506784\",\"ticks\":\"\",\"title\":{\"standoff\":15},\"zerolinecolor\":\"#283442\",\"zerolinewidth\":2}}},\"title\":{\"text\":\"TSLA Stock Price - Last 3 Months\"},\"xaxis\":{\"title\":{\"text\":\"Date\"}},\"yaxis\":{\"title\":{\"text\":\"Close Price (USD)\"}},\"hovermode\":\"x unified\"},                        {\"responsive\": true}                    ).then(function(){\n",
              "                            \n",
              "var gd = document.getElementById('ac02406f-efec-430e-a832-adf05a89c662');\n",
              "var x = new MutationObserver(function (mutations, observer) {{\n",
              "        var display = window.getComputedStyle(gd).display;\n",
              "        if (!display || display === 'none') {{\n",
              "            console.log([gd, 'removed!']);\n",
              "            Plotly.purge(gd);\n",
              "            observer.disconnect();\n",
              "        }}\n",
              "}});\n",
              "\n",
              "// Listen for the removal of the full notebook cells\n",
              "var notebookContainer = gd.closest('#notebook-container');\n",
              "if (notebookContainer) {{\n",
              "    x.observe(notebookContainer, {childList: true});\n",
              "}}\n",
              "\n",
              "// Listen for the clearing of the current output cell\n",
              "var outputEl = gd.closest('.output');\n",
              "if (outputEl) {{\n",
              "    x.observe(outputEl, {childList: true});\n",
              "}}\n",
              "\n",
              "                        })                };                            </script>        </div>\n",
              "</body>\n",
              "</html>"
            ]
          },
          "metadata": {}
        }
      ]
    }
  ]
}